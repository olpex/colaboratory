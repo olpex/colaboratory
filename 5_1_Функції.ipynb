{
  "nbformat": 4,
  "nbformat_minor": 0,
  "metadata": {
    "colab": {
      "provenance": [],
      "authorship_tag": "ABX9TyPx56IxJgi4buuGhfXhpYom",
      "include_colab_link": true
    },
    "kernelspec": {
      "name": "python3",
      "display_name": "Python 3"
    },
    "language_info": {
      "name": "python"
    }
  },
  "cells": [
    {
      "cell_type": "markdown",
      "metadata": {
        "id": "view-in-github",
        "colab_type": "text"
      },
      "source": [
        "<a href=\"https://colab.research.google.com/github/olpex/colaboratory/blob/main/5_1_%D0%A4%D1%83%D0%BD%D0%BA%D1%86%D1%96%D1%97.ipynb\" target=\"_parent\"><img src=\"https://colab.research.google.com/assets/colab-badge.svg\" alt=\"Open In Colab\"/></a>"
      ]
    },
    {
      "cell_type": "code",
      "execution_count": 4,
      "metadata": {
        "colab": {
          "base_uri": "https://localhost:8080/"
        },
        "id": "KMz-1k-6c_Yl",
        "outputId": "7163f5ee-6d5e-4dee-d5ce-59b2bf4338aa"
      },
      "outputs": [
        {
          "output_type": "stream",
          "name": "stdout",
          "text": [
            "7\n",
            "5040\n",
            "4\n",
            "24\n"
          ]
        }
      ],
      "source": [
        "import math\n",
        "import random\n",
        "def func_07(a):\n",
        "   return math.factorial (a)\n",
        "z=func_07\n",
        "x=random.randint(3,9)\n",
        "print (x)\n",
        "print (z(x))\n",
        "x=random.randint(2,7)\n",
        "print (x)\n",
        "print (z(x))"
      ]
    }
  ]
}